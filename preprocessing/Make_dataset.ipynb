{
 "cells": [
  {
   "cell_type": "markdown",
   "id": "afb0747d-961a-4866-82bd-0c9808c6bb81",
   "metadata": {
    "id": "nN96C1GbBJvF"
   },
   "source": [
    "## 1. Make descriptions -> generate images"
   ]
  },
  {
   "cell_type": "code",
   "execution_count": null,
   "id": "809b4674-39a9-4a81-af03-b59d64feab7a",
   "metadata": {
    "id": "lt0HGyUiNJkw"
   },
   "outputs": [],
   "source": [
    "!pip install diffusers transformers accelerate"
   ]
  },
  {
   "cell_type": "code",
   "execution_count": null,
   "id": "706c51d1-572f-42c6-ae26-939cdb7d31f2",
   "metadata": {
    "id": "jf6KePcSKJ8S"
   },
   "outputs": [],
   "source": [
    "import os\n",
    "import pandas as pd\n",
    "from PIL import Image\n",
    "import torch\n",
    "from transformers import AutoProcessor, AutoModelForCausalLM\n",
    "\n",
    "import gc\n",
    "import textwrap\n",
    "from tqdm.auto import tqdm\n",
    "tqdm.pandas()"
   ]
  },
  {
   "cell_type": "code",
   "execution_count": null,
   "id": "0bd70a74-de6a-42be-8203-8dca68f7517a",
   "metadata": {
    "id": "2BS5jPzFPduk"
   },
   "outputs": [],
   "source": [
    "os.rename('/content/drive/MyDrive/хонор проект/БПМ-24-4.zip', '/content/drive/MyDrive/хонор проект/data.zip')\n",
    "!unzip '/content/drive/MyDrive/хонор проект/data.zip'\n",
    "os.rename('/content/БПМ-24-4', '/content/data')"
   ]
  },
  {
   "cell_type": "code",
   "execution_count": null,
   "id": "94a2713a-3b18-4644-b6b1-f4c2242cb72e",
   "metadata": {
    "id": "aoIPdJSuQLX6"
   },
   "outputs": [],
   "source": [
    "path = '/content/data/stickers'"
   ]
  },
  {
   "cell_type": "code",
   "execution_count": null,
   "id": "66796682-810d-457d-aa4c-e86546342282",
   "metadata": {
    "colab": {
     "base_uri": "https://localhost:8080/",
     "height": 36
    },
    "id": "XH-g4cRNQLUh",
    "outputId": "6dc79f1b-55f3-439c-ff1c-d574530eb4b3"
   },
   "outputs": [],
   "source": [
    "device = \"cuda:0\" if torch.cuda.is_available() else \"cpu\"\n",
    "torch_dtype = torch.float16 if torch.cuda.is_available() else torch.float32\n",
    "device"
   ]
  },
  {
   "cell_type": "code",
   "execution_count": null,
   "id": "f26704a5-cf26-4653-b303-b232bc87896f",
   "metadata": {
    "id": "q1jkuWjT9JVs"
   },
   "outputs": [],
   "source": [
    "import textwrap"
   ]
  },
  {
   "cell_type": "code",
   "execution_count": null,
   "id": "d5127e7e-cbb7-46b6-965b-99315ae43260",
   "metadata": {
    "id": "27BmlYGbQQeh"
   },
   "outputs": [],
   "source": [
    "df = pd.read_csv('/content/data/output.csv', encoding='utf-16')\n",
    "df['Last Words'] = df['Last Words'].map(lambda x: ' '.join(x[-512:].split()[1:]))# textwrap.wrap(x, width=512))"
   ]
  },
  {
   "cell_type": "code",
   "execution_count": null,
   "id": "19556e05-e83e-4f68-b8e5-e00a74e86e95",
   "metadata": {
    "id": "v-YwdjpDhrf1"
   },
   "outputs": [],
   "source": [
    "height, width = 512, 512"
   ]
  },
  {
   "cell_type": "code",
   "execution_count": null,
   "id": "f3cda25e-47ab-4401-8917-402ebf83d905",
   "metadata": {
    "id": "P_E_4OfUfRM5"
   },
   "outputs": [],
   "source": []
  },
  {
   "cell_type": "markdown",
   "id": "1d75c90c-e512-42df-96e6-d4da71f49779",
   "metadata": {
    "id": "hg9KvTYiBWH0"
   },
   "source": [
    "### captioning"
   ]
  },
  {
   "cell_type": "code",
   "execution_count": null,
   "id": "d6006d73-2b28-4b1c-89f4-0a6c007d66ff",
   "metadata": {
    "id": "n4pnTK2ESogK"
   },
   "outputs": [],
   "source": [
    "model = AutoModelForCausalLM.from_pretrained(\"microsoft/Florence-2-base-ft\", torch_dtype=torch_dtype, trust_remote_code=True).to(device)\n",
    "processor = AutoProcessor.from_pretrained(\"microsoft/Florence-2-base-ft\", trust_remote_code=True)"
   ]
  },
  {
   "cell_type": "code",
   "execution_count": null,
   "id": "54ad8862-1f93-43e4-bec3-df2643e8953a",
   "metadata": {
    "id": "2Ax2I_wiCEca"
   },
   "outputs": [],
   "source": [
    "import gc\n",
    "gc.collect()\n",
    "del model\n",
    "del processor"
   ]
  },
  {
   "cell_type": "code",
   "execution_count": null,
   "id": "3b255339-b3d0-4190-8ba3-27a4799a7718",
   "metadata": {
    "id": "3rXdwuxqQQUu"
   },
   "outputs": [],
   "source": [
    "task_prompt = \"<MORE_DETAILED_CAPTION>\" # \"<DETAILED_CAPTION>\", \"<CAPTION>\"\n",
    "# text_input =\n",
    "prompt = task_prompt# + text_input"
   ]
  },
  {
   "cell_type": "code",
   "execution_count": null,
   "id": "7874bc7b-fa77-45e8-8a23-77f9c99a400c",
   "metadata": {
    "id": "6lUeHKjChzoB"
   },
   "outputs": [],
   "source": [
    "def caption_sticker(sample):\n",
    "  image_path = os.path.join(path, sample)\n",
    "  raw_image = Image.open(os.path.join(path, image_path)).convert('RGB')\n",
    "  inputs = processor(text=prompt, images=raw_image, return_tensors=\"pt\").to(device, torch_dtype)\n",
    "  generated_ids = model.generate(\n",
    "    input_ids=inputs[\"input_ids\"],\n",
    "    pixel_values=inputs[\"pixel_values\"],\n",
    "    max_new_tokens=1024,\n",
    "    num_beams=3\n",
    "  )\n",
    "  generated_text = processor.batch_decode(generated_ids, skip_special_tokens=False)[0]\n",
    "  parsed_answer = processor.post_process_generation(generated_text, task=task_prompt, image_size=(raw_image.width, raw_image.height))\n",
    "  return parsed_answer[prompt]"
   ]
  },
  {
   "cell_type": "code",
   "execution_count": null,
   "id": "edc85515-ccd2-4fa3-ad13-167edcf5159d",
   "metadata": {
    "colab": {
     "base_uri": "https://localhost:8080/",
     "height": 49,
     "referenced_widgets": [
      "3c2d849b064c4b5696a61385cf8e549f",
      "88d08c0d5a6040eaaf8f1cd7c67a947b",
      "1a1280e878bc4fd58ae3c39b3de5d2d7",
      "822f782912164c819949945c6f8fc337",
      "ad95c7ee7cea4e5e8f65585e2c12b1fe",
      "faf7000b099b4e78969604a6dfea487f",
      "a379528018094aa0b9058341ef2b4454",
      "6e42caf103684ea9bbe63aa7f1e8b773",
      "7eaae0d095074763aa214f8141a2b727",
      "0fbac69673024d6e9d26974af3a25c83",
      "fc91b4ee3e054841afb1990897fa52fc"
     ]
    },
    "id": "MmHP6xgMiEoT",
    "outputId": "a289086a-50ef-445a-f1f0-e8cb9d40dab1"
   },
   "outputs": [],
   "source": [
    "df['caption'] = df['Sticker Name'].progress_apply(caption_sticker)"
   ]
  },
  {
   "cell_type": "code",
   "execution_count": null,
   "id": "c8fcff2d-dd17-46ca-891d-4b1a807534c0",
   "metadata": {
    "colab": {
     "base_uri": "https://localhost:8080/",
     "height": 133,
     "referenced_widgets": [
      "23c07ea8e3c74b66b2aadfc7453b88e2",
      "8b8e075ea4db4554ac7f2b962ae5509b",
      "0633b087933c4f6d90887ddd4986a904",
      "80de7aaf77c340379745f1c78e4d428c",
      "73e572ffa171406992badb53022c06a3",
      "16d7a253852e4fd9bcab2cd6b748178c",
      "4c180ea443d24be480a2206e9199882f",
      "e5f9823c26dd4bb7876af071e2f5147d",
      "eeec231eca254ee5a7e817751c041d65",
      "33af0ba66d094445af3c7a03836043eb",
      "89926f672a25418887ad7bb7e4991c82",
      "6e6656b6b07340e69e4f6b6543c6ee3f",
      "81037ff0c01a4cb9a8c8e8f00a9ca296",
      "28077a9308a845f3b1ea469decbd6a63",
      "1401638552664d3cb3bb9dce66aeda82",
      "0b1866b56e0f4f728918e1e97e56e542",
      "8b2fee05d1774dd3ab4549015a14bd24",
      "d55ed796d1324248bb9ee080d6e92ddc",
      "1312bec031f84f00989d0e97f53f1515",
      "5b23c2d12282454fb12dc74eb81da54f",
      "376df12eb175495a897033f400b7bcf9",
      "1f8d05654b3a4feebabedca13be179ec"
     ]
    },
    "id": "8ePBOkzQAaQG",
    "outputId": "5080bfc0-2e72-444a-a9c8-e74d0f9539a5"
   },
   "outputs": [],
   "source": [
    "from datasets import Dataset\n",
    "ds = Dataset.from_pandas(df[['Last Words', 'caption']])\n",
    "ds.push_to_hub('stickers_captioning', token='')"
   ]
  },
  {
   "cell_type": "markdown",
   "id": "5200b7d5-40ce-40fc-85cb-46d06d0542a6",
   "metadata": {
    "id": "odCJqFCmSVXb"
   },
   "source": [
    "### image generation"
   ]
  },
  {
   "cell_type": "code",
   "execution_count": null,
   "id": "8398ad23-72b8-4c6c-a6eb-3516e47f7325",
   "metadata": {
    "id": "0bz46lQwO--w"
   },
   "outputs": [],
   "source": [
    "from diffusers import AutoPipelineForText2Image\n",
    "import torch\n",
    "\n",
    "pipe = AutoPipelineForText2Image.from_pretrained(\"kandinsky-community/kandinsky-2-1\", torch_dtype=torch.float16)\n",
    "pipe.enable_model_cpu_offload()"
   ]
  },
  {
   "cell_type": "code",
   "execution_count": null,
   "id": "f3126cc8-e284-4739-8332-197b4fab13e7",
   "metadata": {
    "id": "yH7dZkYQWAJ7"
   },
   "outputs": [],
   "source": [
    "height, width = raw_image.height, raw_image.width"
   ]
  },
  {
   "cell_type": "code",
   "execution_count": null,
   "id": "4c3c7146-3274-4487-80c7-80b60cd63e18",
   "metadata": {
    "colab": {
     "base_uri": "https://localhost:8080/",
     "height": 593,
     "referenced_widgets": [
      "18e07eef4f4d4660a5965a9db292656f",
      "2dbfe42a24c64c5d81e3ef8793555e6d",
      "fbb0d47810b842ee9cd8bc04f1d9e57e",
      "746ea138774940e0854b396c4ba7f48a",
      "1cd63205a320491dace2da920da8139e",
      "e9cccc333b9c47f593215f026f0dbf28",
      "eabf5dae0e184aa9886df2d9a5292e99",
      "cea755b6eea146a690e45d5279ecdb25",
      "3dc9fe5c8d1b4aaf88c0251a75e2f68b",
      "38e46e94f5cf4e8ab97e231408cf2671",
      "eec1c786d1ba4223b8b6d63a02953479",
      "d8303f8cba9748d8ab2df30352d773d2",
      "77717e65d4a94e35842721b1abf8e21c",
      "2c5a74e4dab74fc383a420520db74c18",
      "98c402b913364e918ea908d0c8c3c55d",
      "63e036a92d6f42438096e7948a436648",
      "3232c0d29c7746f289c7932c7112ab6c",
      "bf7dc0fdc0d345e285d91cec93a24271",
      "a4818b532ff34efbb4c8d6813a720f49",
      "3e362392e59044c5a33e688dbef529de",
      "ac9a428d9cff444abb97c5fba0d03552",
      "0dd4e368d3354dc6b36526fce016cd00"
     ]
    },
    "id": "tqmFwkonU2v8",
    "outputId": "a1352996-d212-4962-8186-e2544d91c369"
   },
   "outputs": [],
   "source": [
    "negative_prompt = \"low quality, bad quality\"\n",
    "image = pipe(prompt=caption, negative_prompt=negative_prompt, prior_guidance_scale =1.0, height=height, width=width).images[0]\n",
    "image"
   ]
  },
  {
   "cell_type": "code",
   "execution_count": null,
   "id": "58a7ac09-529c-4a09-8dee-ca9f1f9465d2",
   "metadata": {
    "colab": {
     "base_uri": "https://localhost:8080/",
     "height": 53
    },
    "id": "DFDZWfoNWOxw",
    "outputId": "6f517a6b-a95e-4c70-b2f6-ce9f6083c019"
   },
   "outputs": [],
   "source": [
    "caption"
   ]
  }
 ],
 "metadata": {
  "kernelspec": {
   "display_name": "Python 3 (ipykernel)",
   "language": "python",
   "name": "python3"
  },
  "language_info": {
   "codemirror_mode": {
    "name": "ipython",
    "version": 3
   },
   "file_extension": ".py",
   "mimetype": "text/x-python",
   "name": "python",
   "nbconvert_exporter": "python",
   "pygments_lexer": "ipython3",
   "version": "3.10.12"
  }
 },
 "nbformat": 4,
 "nbformat_minor": 5
}
